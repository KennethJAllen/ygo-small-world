{
 "cells": [
  {
   "attachments": {},
   "cell_type": "markdown",
   "metadata": {},
   "source": [
    "# Import Module"
   ]
  },
  {
   "cell_type": "code",
   "execution_count": null,
   "metadata": {},
   "outputs": [],
   "source": [
    "from pathlib import Path\n",
    "from ygo_small_world import small_world_bridge_generator as sw\n",
    "# Change the working directory to the project root\n",
    "%cd .."
   ]
  },
  {
   "attachments": {},
   "cell_type": "markdown",
   "metadata": {},
   "source": [
    "# Find Best Bridges From List of Names"
   ]
  },
  {
   "cell_type": "code",
   "execution_count": null,
   "metadata": {},
   "outputs": [],
   "source": [
    "#cards that we want to find bridges between\n",
    "deck_monster_names = ['Ash Blossom & Joyous Spring',\n",
    "                        'Effect Veiler',\n",
    "                        'Ghost Belle & Haunted Mansion',\n",
    "                        'Mathmech Addition',\n",
    "                        'Mathmech Circular',\n",
    "                        'Mathmech Diameter',\n",
    "                        'Mathmech Multiplication',\n",
    "                        'Mathmech Sigma',\n",
    "                        'Mathmech Subtraction',\n",
    "                        'Lava Golem',\n",
    "                        'Nibiru, the Primal Being',\n",
    "                        'Parallel eXceed']\n",
    "\n",
    "#cards that are required to connect with a bridge\n",
    "required_target_names = ['Mathmech Circular']\n",
    "\n",
    "bridges = sw.find_best_bridges(deck_monster_names, required_target_names, top=20)\n",
    "bridges"
   ]
  },
  {
   "attachments": {},
   "cell_type": "markdown",
   "metadata": {},
   "source": [
    "# Find Best Bridges From YDK File"
   ]
  },
  {
   "cell_type": "code",
   "execution_count": null,
   "metadata": {},
   "outputs": [],
   "source": [
    "ydk_file = Path.cwd() / 'data' / 'sample_deck.ydk'\n",
    "bridges_from_ydk = sw.find_best_bridges_from_ydk(ydk_file, top=20) #find the best Small World bridges for your deck\n",
    "bridges_from_ydk"
   ]
  },
  {
   "attachments": {},
   "cell_type": "markdown",
   "metadata": {},
   "source": [
    "# Small World Adjacency Matrix"
   ]
  },
  {
   "cell_type": "code",
   "execution_count": null,
   "metadata": {},
   "outputs": [],
   "source": [
    "mathmech_adjacency_matrix = sw.ydk_to_labeled_adjacency_matrix(ydk_file)\n",
    "mathmech_adjacency_matrix #if an entry corresponding to two cards is non-zero, then one card connects to the other with Small World"
   ]
  },
  {
   "attachments": {},
   "cell_type": "markdown",
   "metadata": {},
   "source": [
    "# Small World Adjacency Matrix Squared"
   ]
  },
  {
   "cell_type": "code",
   "execution_count": null,
   "metadata": {},
   "outputs": [],
   "source": [
    "mathmech_adjacency_matrix_squared = sw.ydk_to_labeled_adjacency_matrix(ydk_file, squared=True)\n",
    "mathmech_adjacency_matrix_squared #if an entry corresponding to two cards is non-zero, then one card is searchable from the other with Small World"
   ]
  },
  {
   "cell_type": "code",
   "execution_count": null,
   "metadata": {},
   "outputs": [],
   "source": []
  }
 ],
 "metadata": {
  "kernelspec": {
   "display_name": ".venv",
   "language": "python",
   "name": "python3"
  },
  "language_info": {
   "codemirror_mode": {
    "name": "ipython",
    "version": 3
   },
   "file_extension": ".py",
   "mimetype": "text/x-python",
   "name": "python",
   "nbconvert_exporter": "python",
   "pygments_lexer": "ipython3",
   "version": "3.12.2"
  },
  "orig_nbformat": 4
 },
 "nbformat": 4,
 "nbformat_minor": 2
}
